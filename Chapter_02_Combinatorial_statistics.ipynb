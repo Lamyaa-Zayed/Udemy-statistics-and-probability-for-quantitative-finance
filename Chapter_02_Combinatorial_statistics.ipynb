{
  "nbformat": 4,
  "nbformat_minor": 0,
  "metadata": {
    "colab": {
      "name": "EN - S&P Chapter 2: Combinatorial statistics.ipynb",
      "provenance": [],
      "collapsed_sections": []
    },
    "kernelspec": {
      "name": "python3",
      "display_name": "Python 3"
    },
    "language_info": {
      "name": "python"
    }
  },
  "cells": [
    {
      "cell_type": "markdown",
      "source": [
        "<p><img alt=\"Colaboratory logo\" height=\"45px\" src=\"https://www.quantreo.com/wp-content/uploads/2021/10/Original-on-Transparent.png\" align=\"left\" hspace=\"10px\" vspace=\"0px\"></p>\n",
        "\n",
        "# Combinatorial statistics\n",
        "\n",
        "\n",
        "<br>\n",
        "\n",
        "### After this Chapter you will be able to:\n",
        "* Compute and understand how to interprate the permutations\n",
        "* Compute and understand how to interprate the arrangments\n",
        "* Compute and understand how to interprate the combinations\n",
        "\n",
        "<br>\n",
        "<br>\n",
        "<br>\n",
        "\n",
        "### Exercises (Trading):\n",
        "* Compute the number of combinations between the following currencies: USD, EUR,CAD. (We consider that EUR/USD = USD/EUR).\n",
        "* Compute the number of combinations between the following currencies: USD, EUR,CAD. (We consider that EUR/USD != USD/EUR)\n",
        "\n",
        "\n",
        "\n",
        "\n",
        "<br>\n",
        "<br>\n",
        "\n",
        "💰Join our community: https://discord.gg/wXjNPAc5BH\n",
        "\n",
        "📚Read our book: https://www.amazon.com/gp/product/B09HG18CYL \n",
        "\n",
        "🖥️Quantreo's YouTube channel: https://www.youtube.com/channel/UCp7jckfiEglNf_Gj62VR0pw"
      ],
      "metadata": {
        "id": "TvesEpdqVwGJ"
      }
    },
    {
      "cell_type": "markdown",
      "source": [
        "# Exercises (Trading):\n",
        "* Compute the number of combinations between the following currencies: USD, EUR,CAD. (We consider that EUR/USD = USD/EUR).\n",
        "* Compute the number of combinations between the following currencies: USD, EUR,CAD. (We consider that EUR/USD != USD/EUR)"
      ],
      "metadata": {
        "id": "7TDIjOwyAVFe"
      }
    },
    {
      "cell_type": "code",
      "source": [
        "import numpy as np"
      ],
      "metadata": {
        "id": "KxrcXdxjApwh"
      },
      "execution_count": null,
      "outputs": []
    },
    {
      "cell_type": "code",
      "execution_count": null,
      "metadata": {
        "id": "IjjflNafVbtg",
        "colab": {
          "base_uri": "https://localhost:8080/"
        },
        "outputId": "155ad0cc-1b23-4591-8b86-1b73ad17eab6"
      },
      "outputs": [
        {
          "output_type": "execute_result",
          "data": {
            "text/plain": [
              "3.0"
            ]
          },
          "metadata": {},
          "execution_count": 5
        }
      ],
      "source": [
        "def combination(n,k, repetition=False):\n",
        "\n",
        "  if repetition:\n",
        "    C = np.math.factorial(n+k-1) / (np.math.factorial(k)*np.math.factorial(n-1))\n",
        "  else:\n",
        "    C = np.math.factorial(n) / (np.math.factorial(k)*np.math.factorial(n-k))\n",
        "  \n",
        "  return C\n",
        "\n",
        "combination(3,2)"
      ]
    },
    {
      "cell_type": "code",
      "source": [
        "combination(3,2, repetition=True)"
      ],
      "metadata": {
        "colab": {
          "base_uri": "https://localhost:8080/"
        },
        "id": "cWDMBwA7BcPT",
        "outputId": "2d609193-97f8-44d0-ca22-1eb08f8227d0"
      },
      "execution_count": null,
      "outputs": [
        {
          "output_type": "execute_result",
          "data": {
            "text/plain": [
              "6.0"
            ]
          },
          "metadata": {},
          "execution_count": 6
        }
      ]
    },
    {
      "cell_type": "code",
      "source": [
        ""
      ],
      "metadata": {
        "id": "DQXzqR_qBeKc"
      },
      "execution_count": null,
      "outputs": []
    }
  ]
}